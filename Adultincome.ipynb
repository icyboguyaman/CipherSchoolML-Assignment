{
  "nbformat": 4,
  "nbformat_minor": 0,
  "metadata": {
    "colab": {
      "name": "Adultincome.ipynb",
      "provenance": [],
      "authorship_tag": "ABX9TyMKc/3bqyE0mxalm7211scF",
      "include_colab_link": true
    },
    "kernelspec": {
      "name": "python3",
      "display_name": "Python 3"
    }
  },
  "cells": [
    {
      "cell_type": "markdown",
      "metadata": {
        "id": "view-in-github",
        "colab_type": "text"
      },
      "source": [
        "<a href=\"https://colab.research.google.com/github/icyboguyaman/CipherSchoolML-Assignment/blob/master/Adultincome.ipynb\" target=\"_parent\"><img src=\"https://colab.research.google.com/assets/colab-badge.svg\" alt=\"Open In Colab\"/></a>"
      ]
    },
    {
      "cell_type": "markdown",
      "metadata": {
        "id": "F5s1-P1liSCr",
        "colab_type": "text"
      },
      "source": [
        "Aman Joshi Assignment-3 (17EJTCS014)"
      ]
    },
    {
      "cell_type": "markdown",
      "metadata": {
        "id": "2xf77N-uiVNC",
        "colab_type": "text"
      },
      "source": [
        "Q1) Import the required libraries"
      ]
    },
    {
      "cell_type": "code",
      "metadata": {
        "id": "JS2mt4pOiQ7w",
        "colab_type": "code",
        "colab": {}
      },
      "source": [
        "import numpy as np\n",
        "import pandas as pd\n",
        "import matplotlib.pyplot as plt\n"
      ],
      "execution_count": 0,
      "outputs": []
    },
    {
      "cell_type": "markdown",
      "metadata": {
        "id": "nEMpMdmxiYIo",
        "colab_type": "text"
      },
      "source": [
        " Q2) Read the csv file to the pandas dataframe"
      ]
    },
    {
      "cell_type": "code",
      "metadata": {
        "id": "jgDs8eY1iZmC",
        "colab_type": "code",
        "colab": {}
      },
      "source": [
        "df = pd.read_csv('adult.csv')"
      ],
      "execution_count": 0,
      "outputs": []
    },
    {
      "cell_type": "markdown",
      "metadata": {
        "id": "OZ2XIcOPibFg",
        "colab_type": "text"
      },
      "source": [
        "Q3 - Display the top 5 rows of the dataframe"
      ]
    },
    {
      "cell_type": "code",
      "metadata": {
        "id": "a6AgiJPfi3wx",
        "colab_type": "code",
        "colab": {}
      },
      "source": [
        "print(df.head())"
      ],
      "execution_count": 0,
      "outputs": []
    },
    {
      "cell_type": "markdown",
      "metadata": {
        "id": "tfSpWdBzi5dS",
        "colab_type": "text"
      },
      "source": [
        "Q4 - Display the bottom 5 rows of the dataframe"
      ]
    },
    {
      "cell_type": "code",
      "metadata": {
        "id": "nwOx6kcgi7E5",
        "colab_type": "code",
        "colab": {}
      },
      "source": [
        "print(df.tail())"
      ],
      "execution_count": 0,
      "outputs": []
    },
    {
      "cell_type": "markdown",
      "metadata": {
        "id": "dxEoHLv7i8yp",
        "colab_type": "text"
      },
      "source": [
        "Q5 - How many columns and rows are there in the dataframe?"
      ]
    },
    {
      "cell_type": "code",
      "metadata": {
        "id": "mFAbLmdDi-Sy",
        "colab_type": "code",
        "colab": {}
      },
      "source": [
        "print('Rows', len(df.axes[0]))\n",
        "print('Columns', len(df.axes[1]))"
      ],
      "execution_count": 0,
      "outputs": []
    },
    {
      "cell_type": "markdown",
      "metadata": {
        "id": "twI4b2Ogi_rn",
        "colab_type": "text"
      },
      "source": [
        "Q6 - Display a breif overview of all the columns data type and missing values?"
      ]
    },
    {
      "cell_type": "code",
      "metadata": {
        "id": "3GLRhzrYjCDG",
        "colab_type": "code",
        "colab": {}
      },
      "source": [
        "for col in set(df.columns) - set(df.describe().columns):\n",
        "    df[col] = df[col].astype('category')\n",
        "print(df.info())"
      ],
      "execution_count": 0,
      "outputs": []
    },
    {
      "cell_type": "markdown",
      "metadata": {
        "id": "fklEqS4hjEHf",
        "colab_type": "text"
      },
      "source": [
        "Q7 - Display the descriptive statistical analysis on numerical columns of the dataframe?"
      ]
    },
    {
      "cell_type": "code",
      "metadata": {
        "id": "m2B_kcTujG2F",
        "colab_type": "code",
        "colab": {}
      },
      "source": [
        "for i, j in zip(df.columns, (df.values.astype(str) == '?').sum(axis=0)):\n",
        "    if j > 0:\n",
        "        print(str(i) + ': ' + str(j) + ' records')"
      ],
      "execution_count": 0,
      "outputs": []
    },
    {
      "cell_type": "markdown",
      "metadata": {
        "id": "f7M1CXuZjID4",
        "colab_type": "text"
      },
      "source": [
        " Q8 - Display the value count on the 'income' column"
      ]
    },
    {
      "cell_type": "code",
      "metadata": {
        "id": "nKddVYstjLQn",
        "colab_type": "code",
        "colab": {}
      },
      "source": [
        "print(df['income'].value_counts(normalize=True))"
      ],
      "execution_count": 0,
      "outputs": []
    },
    {
      "cell_type": "markdown",
      "metadata": {
        "id": "TToUuzsWjLzv",
        "colab_type": "text"
      },
      "source": [
        "Q9 - Display the percentage of working men and women in the dataframe?"
      ]
    },
    {
      "cell_type": "code",
      "metadata": {
        "id": "PseIgCzbjNr4",
        "colab_type": "code",
        "colab": {}
      },
      "source": [
        "print(df['gender'].value_counts(normalize=True) * 100)\n"
      ],
      "execution_count": 0,
      "outputs": []
    },
    {
      "cell_type": "markdown",
      "metadata": {
        "id": "aoU3jP98jQaZ",
        "colab_type": "text"
      },
      "source": [
        "Q10 - Select hours-per-week from dataframe where gender is female"
      ]
    },
    {
      "cell_type": "code",
      "metadata": {
        "id": "iyQzryCMjRGK",
        "colab_type": "code",
        "colab": {}
      },
      "source": [
        "print(df[df['gender'] == \"Female\"][[\"hours-per-week\", 'gender']])"
      ],
      "execution_count": 0,
      "outputs": []
    },
    {
      "cell_type": "markdown",
      "metadata": {
        "id": "bXCUbDT7jSiH",
        "colab_type": "text"
      },
      "source": [
        " Q11 - Select hours-per-week from dataframe where gender is male"
      ]
    },
    {
      "cell_type": "code",
      "metadata": {
        "id": "yZbij0KQjT-X",
        "colab_type": "code",
        "colab": {}
      },
      "source": [
        "print(df[df['gender'] == \"Male\"][[\"hours-per-week\", 'gender']])"
      ],
      "execution_count": 0,
      "outputs": []
    },
    {
      "cell_type": "markdown",
      "metadata": {
        "id": "LTB8bj8zjVaI",
        "colab_type": "text"
      },
      "source": [
        "Q12.1 - Group by on the gender column and display first()"
      ]
    },
    {
      "cell_type": "code",
      "metadata": {
        "id": "8aMj-PcSjXFw",
        "colab_type": "code",
        "colab": {}
      },
      "source": [
        "print(df[\"gender\"].head())"
      ],
      "execution_count": 0,
      "outputs": []
    },
    {
      "cell_type": "markdown",
      "metadata": {
        "id": "P6v2PDY3jYMP",
        "colab_type": "text"
      },
      "source": [
        " Q12.2 - Display the basic statistical analysis of 'hours-per-week' from male and female point"
      ]
    },
    {
      "cell_type": "code",
      "metadata": {
        "id": "b5ZM9d_tjZyb",
        "colab_type": "code",
        "colab": {}
      },
      "source": [
        ""
      ],
      "execution_count": 0,
      "outputs": []
    },
    {
      "cell_type": "markdown",
      "metadata": {
        "id": "W9gbQNQ5jaLo",
        "colab_type": "text"
      },
      "source": [
        "Q13.1 - Group by on the race column and display first()"
      ]
    },
    {
      "cell_type": "code",
      "metadata": {
        "id": "jIPigy2PjblR",
        "colab_type": "code",
        "colab": {}
      },
      "source": [
        "print(df[\"race\"].head())"
      ],
      "execution_count": 0,
      "outputs": []
    },
    {
      "cell_type": "markdown",
      "metadata": {
        "id": "B1P-oqU3jdhX",
        "colab_type": "text"
      },
      "source": [
        "Q13.2 - Display the basic statistical analysis of 'hours-per-week' for different race"
      ]
    },
    {
      "cell_type": "code",
      "metadata": {
        "id": "9z4tuMTljfX3",
        "colab_type": "code",
        "colab": {}
      },
      "source": [
        ""
      ],
      "execution_count": 0,
      "outputs": []
    },
    {
      "cell_type": "markdown",
      "metadata": {
        "id": "vY5mQO76jf8P",
        "colab_type": "text"
      },
      "source": [
        " Q14 - Display the percentage distribution of gender vs income"
      ]
    },
    {
      "cell_type": "code",
      "metadata": {
        "id": "juhGKg8GjhFv",
        "colab_type": "code",
        "colab": {}
      },
      "source": [
        "gender = round(pd.crosstab(df.gender, df.income).div(pd.crosstab(df.gender, df.income).apply(sum, 1), 0), 2)\n",
        "a = gender.plot(kind='bar', title='The percentage distribution of gender vs income')\n",
        "a.set_xlabel('Gender level')\n",
        "a.set_ylabel('Proportion of population')\n",
        "plt.show()\n"
      ],
      "execution_count": 0,
      "outputs": []
    },
    {
      "cell_type": "markdown",
      "metadata": {
        "id": "TJ8rYz-FjifQ",
        "colab_type": "text"
      },
      "source": [
        " Q15 - Display the percentage distribution of marital-status vs income"
      ]
    },
    {
      "cell_type": "code",
      "metadata": {
        "id": "W9vKX_sSjlf6",
        "colab_type": "code",
        "colab": {}
      },
      "source": [
        "marital = round(pd.crosstab(df.workclass, df.income).div(pd.crosstab(df.workclass, df.income).apply(sum, 1), 0), 2)\n",
        "a0 = marital.plot(kind='bar', title='The percentage distribution of marital-status vs income')\n",
        "a0.set_xlabel('Marital level')\n",
        "a0.set_ylabel('Proportion of population')\n",
        "plt.show()"
      ],
      "execution_count": 0,
      "outputs": []
    },
    {
      "cell_type": "markdown",
      "metadata": {
        "id": "0FpU9_gojnK_",
        "colab_type": "text"
      },
      "source": [
        "Q16 - Display the percentage distribution of race vs income"
      ]
    },
    {
      "cell_type": "code",
      "metadata": {
        "id": "whqo5q2ijoVj",
        "colab_type": "code",
        "colab": {}
      },
      "source": [
        "race = round(pd.crosstab(df.race, df.income).div(pd.crosstab(df.race, df.income).apply(sum, 1), 0), 2)\n",
        "a1 = race.plot(kind='bar', title='The percentage distribution of race vs income')\n",
        "a1.set_xlabel('Race level')\n",
        "a1.set_ylabel('Proportion of population')\n",
        "plt.show()"
      ],
      "execution_count": 0,
      "outputs": []
    }
  ]
}